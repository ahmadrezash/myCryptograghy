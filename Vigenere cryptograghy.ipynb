{
 "cells": [
  {
   "cell_type": "markdown",
   "metadata": {},
   "source": [
    "# ->Shahid Beheshti University<-"
   ]
  },
  {
   "cell_type": "markdown",
   "metadata": {},
   "source": [
    "Ahmadreza Sharifianzade"
   ]
  },
  {
   "cell_type": "markdown",
   "metadata": {},
   "source": [
    "# Start"
   ]
  },
  {
   "cell_type": "markdown",
   "metadata": {},
   "source": [
    "In start we define two simple function:\n",
    "- first is give a letter an  return index of this letter in english alphabet\n",
    "- and second is reverse"
   ]
  },
  {
   "cell_type": "code",
   "execution_count": 2,
   "metadata": {},
   "outputs": [],
   "source": [
    "def index_char(letter):\n",
    "    return(ord(letter)-96)\n",
    "def get_char(letter):\n",
    "    return(chr(letter+96))"
   ]
  },
  {
   "cell_type": "markdown",
   "metadata": {},
   "source": [
    "## Encryption Function"
   ]
  },
  {
   "cell_type": "markdown",
   "metadata": {},
   "source": [
    "This methode is encrypt your text with your choosen key:"
   ]
  },
  {
   "cell_type": "code",
   "execution_count": 159,
   "metadata": {},
   "outputs": [],
   "source": [
    "def encrypt(plainText,key):\n",
    "    cipherText = ''\n",
    "    n = len(plainText)\n",
    "    nk = len(key)\n",
    "    for i in range(n):   \n",
    "        shifted = index_char(key[i%nk]) + index_char(plainText[i])\n",
    "#     print( (plainText[i])  , '+', key[i%nk] ,'=', get_char( shifted if shifted <= 26 else shifted-26 ))\n",
    "        cipherText += get_char( shifted if shifted <= 26 else shifted-26 )\n",
    "    return cipherText"
   ]
  },
  {
   "cell_type": "markdown",
   "metadata": {},
   "source": [
    "## Decryption Function"
   ]
  },
  {
   "cell_type": "markdown",
   "metadata": {},
   "source": [
    "This methode is decrypt your text with your choosen key:"
   ]
  },
  {
   "cell_type": "code",
   "execution_count": 160,
   "metadata": {},
   "outputs": [],
   "source": [
    "def decrypt(cipherText,key):\n",
    "    plainText = ''\n",
    "    n = len(cipherText)\n",
    "    nk = len(key)\n",
    "    for i in range(n):   \n",
    "    \tnewchar = -index_char(key[i%nk]) + index_char(cipherText[i])\n",
    "    \tshiftBack = newchar if newchar > 0 else newchar + 26\n",
    "\t#print(cipherText[i] , '-' , key[i%nk] , '=',get_char(shiftBack))\n",
    "    \tplainText += get_char(shiftBack)\n",
    "    return plainText"
   ]
  },
  {
   "cell_type": "markdown",
   "metadata": {},
   "source": [
    " "
   ]
  },
  {
   "cell_type": "markdown",
   "metadata": {},
   "source": [
    " "
   ]
  },
  {
   "cell_type": "markdown",
   "metadata": {},
   "source": [
    "\n",
    "\n",
    "\n",
    "\n"
   ]
  },
  {
   "cell_type": "markdown",
   "metadata": {},
   "source": [
    "# Attacking on the ciphering"
   ]
  },
  {
   "cell_type": "markdown",
   "metadata": {},
   "source": [
    "1- At first we give a text and delete all space of its\n",
    "\n",
    "2- impliment encrypt methode for test with a key\n",
    "\n",
    "!!!point: pleas just use lower case letters"
   ]
  },
  {
   "cell_type": "code",
   "execution_count": 223,
   "metadata": {},
   "outputs": [],
   "source": [
    "a = 'Oliphant left the Cavendish Laboratory in 1937 to become the Poynting Professor of Physics at the University of Birmingham. He attempted to build a 60-inch (150 cm) cyclotron at the university, but its completion was postponed by the outbreak of the Second World War in Europe in 1939. He became involved with the development of radar, heading a group at the University of Birmingham that included John Randall and Harry Boot. They created a radical new design, the cavity magnetron, that made microwave radar possible. Oliphant also formed part of the MAUD Committee, which reported in July 1941, that an atomic bomb was not only feasible, but might be produced as early as 1943. Oliphant was instrumental in spreading the word of this finding in the United States, thereby starting what became the Manhattan Project. Later in the war, he worked on it with his friend Ernest Lawrence at the Radiation Laboratory in Berkeley, California, developing electromagnetic isotope separation, which provided the fissile component of the Little Boy atomic bomb used in the atomic bombing of Hiroshima in August 1945.After the war, Oliphant returned to Australia as the first Director of the Research School of Physical Sciences and Engineering at the new Australian National University (ANU), where he initiated the design and construction of the worlds largest (500 megajoule) homopolar generator. He retired in 1967, but was appointed Governor of South Australia on the advice of Premier, Don Dunstan. He assisted in the founding of the Australian Democrats political party, and he was the chairman of the meeting in Melbourne in 1977 at which the party was launched. Late in life he watched his wife, Rosa, suffer before her death in 1987, and he became an advocate for voluntary euthanasia. He died in Canberra in 2000.Oliphant left the Cavendish Laboratory in 1937 to become the Poynting Professor of Physics at the University of Birmingham. He attempted to build a 60-inch (150 cm) cyclotron at the university, but its completion was postponed by the outbreak of the Second World War in Europe in 1939. He became involved with the development of radar, heading a group at the University of Birmingham that included John Randall and Harry Boot. They created a radical new design, the cavity magnetron, that made microwave radar possible. Oliphant also formed part of the MAUD Committee, which reported in July 1941, that an atomic bomb was not only feasible, but might be produced as early as 1943. Oliphant was instrumental in spreading the word of this finding in the United States, thereby starting what became the Manhattan Project. Later in the war, he worked on it with his friend Ernest Lawrence at the Radiation Laboratory in Berkeley, California, developing electromagnetic isotope separation, which provided the fissile component of the Little Boy atomic bomb used in the atomic bombing of Hiroshima in August 1945.After the war, Oliphant returned to Australia as the first Director of the Research School of Physical Sciences and Engineering at the new Australian National University (ANU), where he initiated the design and construction of the worlds largest (500 megajoule) homopolar generator. He retired in 1967, but was appointed Governor of South Australia on the advice of Premier, Don Dunstan. He assisted in the founding of the Australian Democrats political party, and he was the chairman of the meeting in Melbourne in 1977 at which the party was launched. Late in life he watched his wife, Rosa, suffer before her death in 1987, and he became an advocate for voluntary euthanasia. He died in Canberra in 2000. '\n",
    "t=''\n",
    "for i in a.split(' '):\n",
    "    t+=i.lower()\n",
    "k = 'salamsalam'\n",
    "ciphered = encrypt(t,k)"
   ]
  },
  {
   "cell_type": "markdown",
   "metadata": {},
   "source": [
    "we can see ciphered text in the below:"
   ]
  },
  {
   "cell_type": "code",
   "execution_count": 214,
   "metadata": {},
   "outputs": [
    {
     "data": {
      "text/plain": [
       "'ptvqlsstmfngulwhawfvqjwzqacpznusjdio2A@8xggedpurulwuozobvokhwogfafpvgkpizavdwsytifcajzwwsjugbgfawmjooubq@mebubrntljdupjhjpvfP1.qadl:6O1du6dcuqouswabxlmevoqifvkntz-jhumlxcpnxyfxatnxbacpwluooflozxzjovujefectfuimffggsdxpzyeaswiofceptwnn2:;F/lwgedburjrntlwfljjxzyhfemifpgumfobbgvsias-prbhasgbhzbvtsytifcajzwwsjugbgfawmjooubqlmaujvpmyvjdkppasefiammiaelswrzcwbu2lmezdzrbxwiasblvdedsexemfjkf1tifknwmldmbhvruvgsFuiignevjmjdzbxenjrbeieqskxicmm;ppauhbobnmwgkosnmqqejyoguprnemicpnuvuxwjFxiqpivwuosumqjrbzlz2AA20lmaubvnusenccpuoxeksoupvyzjwfsjctr-fmymjhpgcihwoevkreekjasmgnt5K9M/ptvqlsstxbavowlwunfvgbpassqsmnemfltifebshgktijasjrvnnhjvgiimsiuflfueljs-uprsitdsubzgjrybhbujrdeejtifunolsytboxepnwht/migfvastifens0zjwpssresfntxjbuimkkrjfvqfvfjsumijsifhebubufvsiibuqbopsgosbbbscasbfssrmiq1cbmqspvfna-emifpguiohmyfglwonboafxahitpbbqikjpbsigjsf1wijkuqvgaieflgiixnstjtrdseuoofvgpjlmemjbgmittybuwzjgttmcvaremfyhfbbbnmugoncqahsxmispaujqsnnbvohtxC>N6/isuijyhfxie-sdnpibvgsilzroflgpemxtsbtvbekyhfgqetxvnrfdbbssxyhfsmffejhhtdpbppgkpizavdedxcjfvpfwssdfoovoiwwiohigulwsexbcfuvsqibovnumgsamvvvwijxiuz0noy;1wifzriiasiujigfhlmeefavhrssddpvfuvmhtjpvbgxzjwpstqtpswgftb564Brehbrbvpw.hpnwcppswgfomebxgwHifzrumjjdjo9F7;>guuxifbthtioumqhsnjropzbgwgztibcfuvsqibpvgiisivjdmbgtjjmjfz9esfiuotbno2zjattqfuivnnuimspyfiiohwsulwfutuznmmssdfnwpselxppmqgjgsqpbsbl-efihfxifulwhhbjzzbrgktifurfxasgjourmfgzrofqa2=I<auxpvdllmeqbzgzasxlbvvpiiv3lbumvopakeifenugzjdijajjjw1rpti9tyxkescmspvwmesemnulasK:9?9brvmecfknnissaewwpbxwkoswwyvrlfrzfcgieffsjb6ufhajdjoknofwwrbjv?14B3omjxubrlqegubufgsaeoeqfipsgosbbbscasK:4?gpfwhonfbuftgdnujvtqvgkettwepjhmytjkfbxlmevoqifvkntzpnojvennhiiz/lwftufucuivyocvqyeeH5Gjoku)5G5cn*kldpgyrpoigulwznjwmetmldFcvbvuwutmqmmgjsfbatqwfutgseecggiigztcsmnlsxyhftmpprvbosmljbvasevswcfmf6S4:6uffwhanfqawsdaeexqgixzjdfwmyptejnupnebhswFifiqjryfgspccbxlmevoqifvkntzpnojvennhiizulsyiodtheivooioznohsqlbolubvjdbppb;ulwdcsfigfhswaejknmrwbdftqto0lmedbdvucefgofbepr>yhbuuneiencspenwijfdbsxbtwaglf/wyjtzfnubtfpjgwmfexnsxgktifunvhutmnjbgfi>bhjdpeftgwtfeqakyddK:599ulsyaobbbnmugoncentrgyoomgsfeknbmf4ovxengiujrqvgiudflntiswlzba>:8E3omjxubrlbatjvfuvmreouiyjrkurfblvoklmexpzqpjlmitgqaemfliouprvrayeetbnuik1tifzrcckyasuqahazftcfknnilmenbvubxlfnqswwfgl3lbumejrlmexbz9iiotrlflbomlbiuipvtjjneoemeoikylbxzrogwftuimebhaftjpvybfgwaupzljrtjrlftrz0ufljgweoms1dfwmyptasgfmmpuvgrahomgjgaxoupxrtihfrbuqbo0omidixepzaieeuprgmkximfkbntgseouwsulwqiuutrcsqftpnqpcsegutflvoxzjaupuvdfgrbjoobglawotiqzbmffuhvag2=F:Hbgbrsxzjwbs4bmmhmaouzruyjseeuwnvwlwamjintxzjfjsagemjjcupzbgxzjrftmnsgzxcipwypjhmytjknmwuneodmfbrvjnhjvrfvasgbubufrwbavtbebpafnobbvprsquojdrswayy)bvh*0omesfprjrayibumqulwietjoabrvhootbevglnoopngiiotrmeaybvyjsu)==1qwlakpcyf-ztmpqwybvyjnfsigpv@mesfbvsivnn2:>D-fmywbticqsastfeobwijsospnfpylmavtbebpafoouprbhnncfpncsienes-lbohmssubv;iisxsjtbremfyhfgwhohasgpgbufemxtsbtvbrvjmpdznuwhtljuqpbphfruz4nohzjwbtbufgzfisniapjlmenfmgjrynnnftopyjsejo9F8;sywijkuulwuasugjbwdfuodpre2dftfjvyjjwmexbbpiivmitxqsf0jtsb-ahgjwwbfgweflwwdfbbujrC>R8-iaelwgedburbrsivpdigfjgwvpmcauejdevupnoekna/imqjivnndbvofvjfio38=12'"
      ]
     },
     "execution_count": 214,
     "metadata": {},
     "output_type": "execute_result"
    }
   ],
   "source": [
    "ciphered\n",
    "# len(k)"
   ]
  },
  {
   "cell_type": "markdown",
   "metadata": {},
   "source": [
    " "
   ]
  },
  {
   "cell_type": "markdown",
   "metadata": {},
   "source": [
    "now,\n",
    "\n",
    "we will attach on vigenere cipher.\n",
    "\n",
    "Its attack contain <b>tow step</b>:\n",
    "\n",
    "<i>1- finding len of key</i>\n",
    "\n",
    "<i>2- finding characters of key</i>\n"
   ]
  },
  {
   "cell_type": "markdown",
   "metadata": {},
   "source": [
    "### 1- finding len of key"
   ]
  },
  {
   "cell_type": "markdown",
   "metadata": {},
   "source": [
    "first function is tell us the len of key is correct or no!"
   ]
  },
  {
   "cell_type": "code",
   "execution_count": 215,
   "metadata": {},
   "outputs": [],
   "source": [
    "def islenOfKey(ciphered,key_len):\n",
    "#     key_len = \n",
    "    sery_len = int(len(ciphered)/key_len)\n",
    "    series = []\n",
    "    for j in range(key_len):\n",
    "        s = [ciphered[i] for i in range(len(ciphered)) if i%key_len is j]  \n",
    "        series.append(s)\n",
    "\n",
    "    indexVal = []\n",
    "    for i in range(len(series)):\n",
    "        s = 0\n",
    "        for index in range(26):\n",
    "            s += round((series[i].count(get_char(index+1))/sery_len)**2*10000)/10000\n",
    "        indexVal.append(s)\n",
    "    sm = 0\n",
    "    for i in indexVal:\n",
    "        sm += i\n",
    "    avr = sm/len(indexVal)\n",
    "#     print(indexVal)\n",
    "#     print(abs(avr-0.065))\n",
    "    return (abs(avr-0.065) < 0.01)"
   ]
  },
  {
   "cell_type": "markdown",
   "metadata": {},
   "source": [
    "second function is tell us len of key directly..."
   ]
  },
  {
   "cell_type": "code",
   "execution_count": 216,
   "metadata": {},
   "outputs": [],
   "source": [
    "def lenOfkey(ciphered):\n",
    "    for i in range(20):\n",
    "        k = (islenOfKey(ciphered,i+1))\n",
    "        if(k):\n",
    "            return(i+1)"
   ]
  },
  {
   "cell_type": "code",
   "execution_count": 217,
   "metadata": {},
   "outputs": [
    {
     "data": {
      "text/plain": [
       "9"
      ]
     },
     "execution_count": 217,
     "metadata": {},
     "output_type": "execute_result"
    }
   ],
   "source": [
    "lenOfkey(ciphered)"
   ]
  },
  {
   "cell_type": "markdown",
   "metadata": {},
   "source": [
    "### 2- finding characters of key"
   ]
  },
  {
   "cell_type": "markdown",
   "metadata": {},
   "source": [
    "At first we import the frequensy of english letter in a meaningfull text in avrage"
   ]
  },
  {
   "cell_type": "code",
   "execution_count": 225,
   "metadata": {},
   "outputs": [],
   "source": [
    "freq = {\n",
    "'a':0.081,\n",
    "'b':0.014,\n",
    "'c':0.027,\n",
    "'d':0.042,\n",
    "'e':0.127,\n",
    "'f':0.022,    \n",
    "'g':0.020,\n",
    "'h':0.060,\n",
    "'i':0.069,\n",
    "'j':0.001,\n",
    "'k':0.007,\n",
    "'l':0.040,\n",
    "'m':0.024,\n",
    "'n':0.067,\n",
    "'o':0.075,\n",
    "'p':0.019,\n",
    "'q':0,\n",
    "'r':0.059,\n",
    "'s':0.063,\n",
    "'t':0.090,\n",
    "'u':0.027,\n",
    "'v':0.009,\n",
    "'w':0.023,\n",
    "'x':0.001,\n",
    "'y':0.019,\n",
    "'z':0.00,\n",
    "}"
   ]
  },
  {
   "cell_type": "markdown",
   "metadata": {},
   "source": [
    "And in the continue we define a function for attacking on the vigenere method...\n",
    "\n",
    "This methode at first call <t>lenOfkey</t> methode to find the length of the key and began finding the characters of key. For this step by step shift the all characters of a sery and calculate its variance, if it near to 0.065(variance of a meaningfull english text in avrage), its shift is true if not next shift"
   ]
  },
  {
   "cell_type": "code",
   "execution_count": 227,
   "metadata": {},
   "outputs": [],
   "source": [
    "def attakOnVigenere(ciphered):\n",
    "    key_len = lenOfkey(ciphered)\n",
    "    sery_len = int(len(ciphered)/key_len)\n",
    "    series = []\n",
    "    for j in range(key_len):\n",
    "        s = [ciphered[i] for i in range(len(ciphered)) if i%key_len is j]  \n",
    "        series.append(s)\n",
    "\n",
    "    finallKey = ''\n",
    "    for s in series:\n",
    "        for shift in range(1,27):\n",
    "            sum1 = 0\n",
    "            for letter in range(1,27):\n",
    "                c = letter+shift\n",
    "\n",
    "                charfi = get_char(c if c <= 26 else c-26)\n",
    "    #             print(get_char(letter),':',charfi)\n",
    "\n",
    "                charpi = get_char(letter)\n",
    "                fi = s.count(charfi)/sery_len\n",
    "                pi = freq[charpi]\n",
    "                sum1 +=  round(fi*pi , 4)\n",
    "    #         print( charfi , ':' , sum1)\n",
    "\n",
    "            if(abs(sum1-0.065)<0.0165):\n",
    "                break\n",
    "        finallKey+=(charfi)\n",
    "    return(finallKey)"
   ]
  },
  {
   "cell_type": "markdown",
   "metadata": {},
   "source": [
    "and in the finall we can find the key of a encrypted text "
   ]
  },
  {
   "cell_type": "code",
   "execution_count": 243,
   "metadata": {},
   "outputs": [
    {
     "data": {
      "text/plain": [
       "'salam'"
      ]
     },
     "execution_count": 243,
     "metadata": {},
     "output_type": "execute_result"
    }
   ],
   "source": [
    "attakOnVigenere(ciphered)"
   ]
  },
  {
   "cell_type": "code",
   "execution_count": 244,
   "metadata": {},
   "outputs": [],
   "source": [
    "def extractPlaintext(ciphered):\n",
    "    k = attakOnVigenere(ciphered)\n",
    "    ptext = decrypt(ciphered,k)\n",
    "    return(ptext)"
   ]
  },
  {
   "cell_type": "markdown",
   "metadata": {},
   "source": [
    "### AND WE TEST AGAIN"
   ]
  },
  {
   "cell_type": "code",
   "execution_count": 251,
   "metadata": {},
   "outputs": [],
   "source": [
    "a = 'Oliphant left the Cavendish Laboratory in  to become the Poynting Professor of Physics at the University of Birmingham. He attempted to build a 60-inch (150 cm) cyclotron at the university, but its completion was postponed by the outbreak of the Second World War in Europe in 1939. He became involved with the development of radar, heading a group at the University of Birmingham that included John Randall and Harry Boot. They created a radical new design, the cavity magnetrozn, that made microwave radar possible. Oliphant also formed part of the MAUD Committee, which reported in July 1941, that an atomic bomb was not only feasible, but might be produced as early as. Oliphant was instrumental in spreading the word of this finding in the United States, thereby starting what became the Manhattan Project. Later in the war, he worked on it with his friend Ernest Lawrence at the Radiation Laboratory in Berkeley, California, developing electromagnetic isotope separation, which provided the fissile component of the Little Boy atomic bomb used in the atomic bombing of Hiroshima in August 1945.After the war, Oliphant returned to Australia as the first Director of the Research School of Physical Sciences and Engineering at the new Australian National University (ANU), where he initiated the design and construction of the worlds largest (500 megajoule) homopolar generator. He retired in 1967, but was appointed Governor of South Australia on the advice of Premier, Don Dunstan. He assisted in the founding of the Australian Democrats political party, and he was the chairman of the meeting in Melbourne in 1977 at which the party was launched. Late in life he watched his wife, Rosa, suffer before her death in 1987, and he became an advocate for voluntary euthanasia. He died in Canberra in 2000.Oliphant left the Cavendish Laboratory in 1937 to become the Poynting Professor of Physics at the University of Birmingham. He attempted to build a 60-inch (150 cm) cyclotron at the university, but its completion was postponed by the outbreak of the Second World War in Europe in . He became involved with the development of radar, heading a group at the University of Birmingham that included John Randall and Harry Boot. They created a radical new design, the cavity magnetron, that made microwave radar possible. Oliphant also formed part of the MAUD Committee, which reported in July , that an atomic bomb was not only feasible, but might be produced as early as . Oliphant was instrumental in spreading the word of this finding in the United States, thereby starting what became the Manhattan Project. Later in the war, he worked on it with his friend Ernest Lawrence at the Radiation Laboratory in Berkeley, California, developing electromagnetic isotope separation, which provided the fissile component of the Little Boy atomic bomb used in the atomic bombing of Hiroshima in August .After the war, Oliphant returned to Australia as the first Director of the Research School of Physical Sciences and Engineering at the new Australian National University (ANU), where he initiated the design and construction of the worlds largest (500 megajoule) homopolar generator. He retired in, but was appointed Governor of South Australia on the advice of Premier, Don Dunstan. He assisted in the founding of the Australian Democrats political party, and he was the chairman of the meeting in Melbourne in at which the party was launched. Late in life he watched his wife, Rosa, suffer before her death in , and he became an advocate for voluntary euthanasia. He died in Canberra in . '\n",
    "t=''\n",
    "for i in a.split(' '):\n",
    "    t+=i.lower()\n",
    "k = 'salamsalam'\n",
    "ciphered = encrypt(t,k)"
   ]
  },
  {
   "cell_type": "code",
   "execution_count": 252,
   "metadata": {},
   "outputs": [
    {
     "data": {
      "text/plain": [
       "'oliphantleftthecavendishlaboratoryintobecomethepoyntingprofessorofphysicsattheuniversityofbirminghamHheattemptedtobuildaPJGinchBKOJcmCcyclotronattheuniversityFbutitscompletionwaspostponedbytheoutbreakofthesecondworldwarineuropeinKSMSHhebecameinvolvedwiththedevelopmentofradarFheadingagroupattheuniversityofbirminghamthatincludedjohnrandallandharrybootHtheycreatedaradicalnewdesignFthecavitymagnetroznFthatmademicrowaveradarpossibleHoliphantalsoformedpartofthemaudcommitteeFwhichreportedinjulyKSNKFthatanatomicbombwasnotonlyfeasibleFbutmightbeproducedasearlyasHoliphantwasinstrumentalinspreadingthewordofthisfindingintheunitedstatesFtherebystartingwhatbecamethemanhattanprojectHlaterinthewarFheworkedonitwithhisfriendernestlawrenceattheradiationlaboratoryinberkeleyFcaliforniaFdevelopingelectromagneticisotopeseparationFwhichprovidedthefissilecomponentofthelittleboyatomicbombusedintheatomicbombingofhiroshimainaugustKSNOHafterthewarFoliphantreturnedtoaustraliaasthefirstdirectoroftheresearchschoolofphysicalsciencesandengineeringatthenewaustraliannationaluniversityBanuCFwhereheinitiatedthedesignandconstructionoftheworldslargestBOJJmegajouleChomopolargeneratorHheretiredinKSPQFbutwasappointedgovernorofsouthaustraliaontheadviceofpremierFdondunstanHheassistedinthefoundingoftheaustraliandemocratspoliticalpartyFandhewasthechairmanofthemeetinginmelbourneinKSQQatwhichthepartywaslaunchedHlateinlifehewatchedhiswifeFrosaFsufferbeforeherdeathinKSRQFandhebecameanadvocateforvoluntaryeuthanasiaHhediedincanberrainLJJJHoliphantleftthecavendishlaboratoryinKSMQtobecomethepoyntingprofessorofphysicsattheuniversityofbirminghamHheattemptedtobuildaPJGinchBKOJcmCcyclotronattheuniversityFbutitscompletionwaspostponedbytheoutbreakofthesecondworldwarineuropeinHhebecameinvolvedwiththedevelopmentofradarFheadingagroupattheuniversityofbirminghamthatincludedjohnrandallandharrybootHtheycreatedaradicalnewdesignFthecavitymagnetronFthatmademicrowaveradarpossibleHoliphantalsoformedpartofthemaudcommitteeFwhichreportedinjulyFthatanatomicbombwasnotonlyfeasibleFbutmightbeproducedasearlyasHoliphantwasinstrumentalinspreadingthewordofthisfindingintheunitedstatesFtherebystartingwhatbecamethemanhattanprojectHlaterinthewarFheworkedonitwithhisfriendernestlawrenceattheradiationlaboratoryinberkeleyFcaliforniaFdevelopingelectromagneticisotopeseparationFwhichprovidedthefissilecomponentofthelittleboyatomicbombusedintheatomicbombingofhiroshimainaugustHafterthewarFoliphantreturnedtoaustraliaasthefirstdirectoroftheresearchschoolofphysicalsciencesandengineeringatthenewaustraliannationaluniversityBanuCFwhereheinitiatedthedesignandconstructionoftheworldslargestBOJJmegajouleChomopolargeneratorHheretiredinFbutwasappointedgovernorofsouthaustraliaontheadviceofpremierFdondunstanHheassistedinthefoundingoftheaustraliandemocratspoliticalpartyFandhewasthechairmanofthemeetinginmelbourneinatwhichthepartywaslaunchedHlateinlifehewatchedhiswifeFrosaFsufferbeforeherdeathinFandhebecameanadvocateforvoluntaryeuthanasiaHhediedincanberrainH'"
      ]
     },
     "execution_count": 252,
     "metadata": {},
     "output_type": "execute_result"
    }
   ],
   "source": [
    "extractPlaintext(ciphered)"
   ]
  },
  {
   "cell_type": "code",
   "execution_count": 253,
   "metadata": {},
   "outputs": [
    {
     "data": {
      "text/plain": [
       "'oliphantleftthecavendishlaboratoryintobecomethepoyntingprofessorofphysicsattheuniversityofbirmingham.heattemptedtobuilda60-inch(150cm)cyclotronattheuniversity,butitscompletionwaspostponedbytheoutbreakofthesecondworldwarineuropein1939.hebecameinvolvedwiththedevelopmentofradar,headingagroupattheuniversityofbirminghamthatincludedjohnrandallandharryboot.theycreatedaradicalnewdesign,thecavitymagnetrozn,thatmademicrowaveradarpossible.oliphantalsoformedpartofthemaudcommittee,whichreportedinjuly1941,thatanatomicbombwasnotonlyfeasible,butmightbeproducedasearlyas.oliphantwasinstrumentalinspreadingthewordofthisfindingintheunitedstates,therebystartingwhatbecamethemanhattanproject.laterinthewar,heworkedonitwithhisfriendernestlawrenceattheradiationlaboratoryinberkeley,california,developingelectromagneticisotopeseparation,whichprovidedthefissilecomponentofthelittleboyatomicbombusedintheatomicbombingofhiroshimainaugust1945.afterthewar,oliphantreturnedtoaustraliaasthefirstdirectoroftheresearchschoolofphysicalsciencesandengineeringatthenewaustraliannationaluniversity(anu),whereheinitiatedthedesignandconstructionoftheworldslargest(500megajoule)homopolargenerator.heretiredin1967,butwasappointedgovernorofsouthaustraliaontheadviceofpremier,dondunstan.heassistedinthefoundingoftheaustraliandemocratspoliticalparty,andhewasthechairmanofthemeetinginmelbournein1977atwhichthepartywaslaunched.lateinlifehewatchedhiswife,rosa,sufferbeforeherdeathin1987,andhebecameanadvocateforvoluntaryeuthanasia.hediedincanberrain2000.oliphantleftthecavendishlaboratoryin1937tobecomethepoyntingprofessorofphysicsattheuniversityofbirmingham.heattemptedtobuilda60-inch(150cm)cyclotronattheuniversity,butitscompletionwaspostponedbytheoutbreakofthesecondworldwarineuropein.hebecameinvolvedwiththedevelopmentofradar,headingagroupattheuniversityofbirminghamthatincludedjohnrandallandharryboot.theycreatedaradicalnewdesign,thecavitymagnetron,thatmademicrowaveradarpossible.oliphantalsoformedpartofthemaudcommittee,whichreportedinjuly,thatanatomicbombwasnotonlyfeasible,butmightbeproducedasearlyas.oliphantwasinstrumentalinspreadingthewordofthisfindingintheunitedstates,therebystartingwhatbecamethemanhattanproject.laterinthewar,heworkedonitwithhisfriendernestlawrenceattheradiationlaboratoryinberkeley,california,developingelectromagneticisotopeseparation,whichprovidedthefissilecomponentofthelittleboyatomicbombusedintheatomicbombingofhiroshimainaugust.afterthewar,oliphantreturnedtoaustraliaasthefirstdirectoroftheresearchschoolofphysicalsciencesandengineeringatthenewaustraliannationaluniversity(anu),whereheinitiatedthedesignandconstructionoftheworldslargest(500megajoule)homopolargenerator.heretiredin,butwasappointedgovernorofsouthaustraliaontheadviceofpremier,dondunstan.heassistedinthefoundingoftheaustraliandemocratspoliticalparty,andhewasthechairmanofthemeetinginmelbourneinatwhichthepartywaslaunched.lateinlifehewatchedhiswife,rosa,sufferbeforeherdeathin,andhebecameanadvocateforvoluntaryeuthanasia.hediedincanberrain.'"
      ]
     },
     "execution_count": 253,
     "metadata": {},
     "output_type": "execute_result"
    }
   ],
   "source": [
    "t"
   ]
  },
  {
   "cell_type": "code",
   "execution_count": null,
   "metadata": {},
   "outputs": [],
   "source": []
  }
 ],
 "metadata": {
  "kernelspec": {
   "display_name": "Python 3",
   "language": "python",
   "name": "python3"
  },
  "language_info": {
   "codemirror_mode": {
    "name": "ipython",
    "version": 3
   },
   "file_extension": ".py",
   "mimetype": "text/x-python",
   "name": "python",
   "nbconvert_exporter": "python",
   "pygments_lexer": "ipython3",
   "version": "3.6.5"
  }
 },
 "nbformat": 4,
 "nbformat_minor": 2
}
